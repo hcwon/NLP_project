{
  "nbformat": 4,
  "nbformat_minor": 0,
  "metadata": {
    "colab": {
      "name": "sports_process.ipynb",
      "provenance": []
    },
    "kernelspec": {
      "name": "python3",
      "display_name": "Python 3"
    },
    "language_info": {
      "name": "python"
    },
    "accelerator": "GPU",
    "widgets": {
      "application/vnd.jupyter.widget-state+json": {
        "562795103e934ab0a0d3c0ef1f391322": {
          "model_module": "@jupyter-widgets/controls",
          "model_name": "HBoxModel",
          "model_module_version": "1.5.0",
          "state": {
            "_dom_classes": [],
            "_model_module": "@jupyter-widgets/controls",
            "_model_module_version": "1.5.0",
            "_model_name": "HBoxModel",
            "_view_count": null,
            "_view_module": "@jupyter-widgets/controls",
            "_view_module_version": "1.5.0",
            "_view_name": "HBoxView",
            "box_style": "",
            "children": [
              "IPY_MODEL_667d41b2d4e34baf9ea7b733208355c1",
              "IPY_MODEL_693e2d5d7f7646d1ba11609ba4a33963",
              "IPY_MODEL_d2d253b3f7fe47bd92176c4930784266"
            ],
            "layout": "IPY_MODEL_9fd9a5d0d2b74f15bf2ae56f21e9224f"
          }
        },
        "667d41b2d4e34baf9ea7b733208355c1": {
          "model_module": "@jupyter-widgets/controls",
          "model_name": "HTMLModel",
          "model_module_version": "1.5.0",
          "state": {
            "_dom_classes": [],
            "_model_module": "@jupyter-widgets/controls",
            "_model_module_version": "1.5.0",
            "_model_name": "HTMLModel",
            "_view_count": null,
            "_view_module": "@jupyter-widgets/controls",
            "_view_module_version": "1.5.0",
            "_view_name": "HTMLView",
            "description": "",
            "description_tooltip": null,
            "layout": "IPY_MODEL_1f3117b7f56342c79c78dbe715ed9de7",
            "placeholder": "​",
            "style": "IPY_MODEL_8dff7d48c2114811a01e54e346ea856a",
            "value": "100%"
          }
        },
        "693e2d5d7f7646d1ba11609ba4a33963": {
          "model_module": "@jupyter-widgets/controls",
          "model_name": "FloatProgressModel",
          "model_module_version": "1.5.0",
          "state": {
            "_dom_classes": [],
            "_model_module": "@jupyter-widgets/controls",
            "_model_module_version": "1.5.0",
            "_model_name": "FloatProgressModel",
            "_view_count": null,
            "_view_module": "@jupyter-widgets/controls",
            "_view_module_version": "1.5.0",
            "_view_name": "ProgressView",
            "bar_style": "success",
            "description": "",
            "description_tooltip": null,
            "layout": "IPY_MODEL_72b098369f644cae8ea354fec3bf0082",
            "max": 600,
            "min": 0,
            "orientation": "horizontal",
            "style": "IPY_MODEL_4f3e7407907d4d3e9b62ba29c191003a",
            "value": 600
          }
        },
        "d2d253b3f7fe47bd92176c4930784266": {
          "model_module": "@jupyter-widgets/controls",
          "model_name": "HTMLModel",
          "model_module_version": "1.5.0",
          "state": {
            "_dom_classes": [],
            "_model_module": "@jupyter-widgets/controls",
            "_model_module_version": "1.5.0",
            "_model_name": "HTMLModel",
            "_view_count": null,
            "_view_module": "@jupyter-widgets/controls",
            "_view_module_version": "1.5.0",
            "_view_name": "HTMLView",
            "description": "",
            "description_tooltip": null,
            "layout": "IPY_MODEL_444f3a860c1a4dffa1d7aeabf2907ed6",
            "placeholder": "​",
            "style": "IPY_MODEL_6acb9f48945f4c8386035bed990dc867",
            "value": " 600/600 [6:27:12&lt;00:00, 35.93s/it]"
          }
        },
        "9fd9a5d0d2b74f15bf2ae56f21e9224f": {
          "model_module": "@jupyter-widgets/base",
          "model_name": "LayoutModel",
          "model_module_version": "1.2.0",
          "state": {
            "_model_module": "@jupyter-widgets/base",
            "_model_module_version": "1.2.0",
            "_model_name": "LayoutModel",
            "_view_count": null,
            "_view_module": "@jupyter-widgets/base",
            "_view_module_version": "1.2.0",
            "_view_name": "LayoutView",
            "align_content": null,
            "align_items": null,
            "align_self": null,
            "border": null,
            "bottom": null,
            "display": null,
            "flex": null,
            "flex_flow": null,
            "grid_area": null,
            "grid_auto_columns": null,
            "grid_auto_flow": null,
            "grid_auto_rows": null,
            "grid_column": null,
            "grid_gap": null,
            "grid_row": null,
            "grid_template_areas": null,
            "grid_template_columns": null,
            "grid_template_rows": null,
            "height": null,
            "justify_content": null,
            "justify_items": null,
            "left": null,
            "margin": null,
            "max_height": null,
            "max_width": null,
            "min_height": null,
            "min_width": null,
            "object_fit": null,
            "object_position": null,
            "order": null,
            "overflow": null,
            "overflow_x": null,
            "overflow_y": null,
            "padding": null,
            "right": null,
            "top": null,
            "visibility": null,
            "width": null
          }
        },
        "1f3117b7f56342c79c78dbe715ed9de7": {
          "model_module": "@jupyter-widgets/base",
          "model_name": "LayoutModel",
          "model_module_version": "1.2.0",
          "state": {
            "_model_module": "@jupyter-widgets/base",
            "_model_module_version": "1.2.0",
            "_model_name": "LayoutModel",
            "_view_count": null,
            "_view_module": "@jupyter-widgets/base",
            "_view_module_version": "1.2.0",
            "_view_name": "LayoutView",
            "align_content": null,
            "align_items": null,
            "align_self": null,
            "border": null,
            "bottom": null,
            "display": null,
            "flex": null,
            "flex_flow": null,
            "grid_area": null,
            "grid_auto_columns": null,
            "grid_auto_flow": null,
            "grid_auto_rows": null,
            "grid_column": null,
            "grid_gap": null,
            "grid_row": null,
            "grid_template_areas": null,
            "grid_template_columns": null,
            "grid_template_rows": null,
            "height": null,
            "justify_content": null,
            "justify_items": null,
            "left": null,
            "margin": null,
            "max_height": null,
            "max_width": null,
            "min_height": null,
            "min_width": null,
            "object_fit": null,
            "object_position": null,
            "order": null,
            "overflow": null,
            "overflow_x": null,
            "overflow_y": null,
            "padding": null,
            "right": null,
            "top": null,
            "visibility": null,
            "width": null
          }
        },
        "8dff7d48c2114811a01e54e346ea856a": {
          "model_module": "@jupyter-widgets/controls",
          "model_name": "DescriptionStyleModel",
          "model_module_version": "1.5.0",
          "state": {
            "_model_module": "@jupyter-widgets/controls",
            "_model_module_version": "1.5.0",
            "_model_name": "DescriptionStyleModel",
            "_view_count": null,
            "_view_module": "@jupyter-widgets/base",
            "_view_module_version": "1.2.0",
            "_view_name": "StyleView",
            "description_width": ""
          }
        },
        "72b098369f644cae8ea354fec3bf0082": {
          "model_module": "@jupyter-widgets/base",
          "model_name": "LayoutModel",
          "model_module_version": "1.2.0",
          "state": {
            "_model_module": "@jupyter-widgets/base",
            "_model_module_version": "1.2.0",
            "_model_name": "LayoutModel",
            "_view_count": null,
            "_view_module": "@jupyter-widgets/base",
            "_view_module_version": "1.2.0",
            "_view_name": "LayoutView",
            "align_content": null,
            "align_items": null,
            "align_self": null,
            "border": null,
            "bottom": null,
            "display": null,
            "flex": null,
            "flex_flow": null,
            "grid_area": null,
            "grid_auto_columns": null,
            "grid_auto_flow": null,
            "grid_auto_rows": null,
            "grid_column": null,
            "grid_gap": null,
            "grid_row": null,
            "grid_template_areas": null,
            "grid_template_columns": null,
            "grid_template_rows": null,
            "height": null,
            "justify_content": null,
            "justify_items": null,
            "left": null,
            "margin": null,
            "max_height": null,
            "max_width": null,
            "min_height": null,
            "min_width": null,
            "object_fit": null,
            "object_position": null,
            "order": null,
            "overflow": null,
            "overflow_x": null,
            "overflow_y": null,
            "padding": null,
            "right": null,
            "top": null,
            "visibility": null,
            "width": null
          }
        },
        "4f3e7407907d4d3e9b62ba29c191003a": {
          "model_module": "@jupyter-widgets/controls",
          "model_name": "ProgressStyleModel",
          "model_module_version": "1.5.0",
          "state": {
            "_model_module": "@jupyter-widgets/controls",
            "_model_module_version": "1.5.0",
            "_model_name": "ProgressStyleModel",
            "_view_count": null,
            "_view_module": "@jupyter-widgets/base",
            "_view_module_version": "1.2.0",
            "_view_name": "StyleView",
            "bar_color": null,
            "description_width": ""
          }
        },
        "444f3a860c1a4dffa1d7aeabf2907ed6": {
          "model_module": "@jupyter-widgets/base",
          "model_name": "LayoutModel",
          "model_module_version": "1.2.0",
          "state": {
            "_model_module": "@jupyter-widgets/base",
            "_model_module_version": "1.2.0",
            "_model_name": "LayoutModel",
            "_view_count": null,
            "_view_module": "@jupyter-widgets/base",
            "_view_module_version": "1.2.0",
            "_view_name": "LayoutView",
            "align_content": null,
            "align_items": null,
            "align_self": null,
            "border": null,
            "bottom": null,
            "display": null,
            "flex": null,
            "flex_flow": null,
            "grid_area": null,
            "grid_auto_columns": null,
            "grid_auto_flow": null,
            "grid_auto_rows": null,
            "grid_column": null,
            "grid_gap": null,
            "grid_row": null,
            "grid_template_areas": null,
            "grid_template_columns": null,
            "grid_template_rows": null,
            "height": null,
            "justify_content": null,
            "justify_items": null,
            "left": null,
            "margin": null,
            "max_height": null,
            "max_width": null,
            "min_height": null,
            "min_width": null,
            "object_fit": null,
            "object_position": null,
            "order": null,
            "overflow": null,
            "overflow_x": null,
            "overflow_y": null,
            "padding": null,
            "right": null,
            "top": null,
            "visibility": null,
            "width": null
          }
        },
        "6acb9f48945f4c8386035bed990dc867": {
          "model_module": "@jupyter-widgets/controls",
          "model_name": "DescriptionStyleModel",
          "model_module_version": "1.5.0",
          "state": {
            "_model_module": "@jupyter-widgets/controls",
            "_model_module_version": "1.5.0",
            "_model_name": "DescriptionStyleModel",
            "_view_count": null,
            "_view_module": "@jupyter-widgets/base",
            "_view_module_version": "1.2.0",
            "_view_name": "StyleView",
            "description_width": ""
          }
        }
      }
    }
  },
  "cells": [
    {
      "cell_type": "code",
      "execution_count": null,
      "metadata": {
        "colab": {
          "base_uri": "https://localhost:8080/"
        },
        "id": "zwN-7m6QkhUE",
        "outputId": "ffa3fbf1-4910-4c5e-8f45-b075078904ad"
      },
      "outputs": [
        {
          "output_type": "stream",
          "name": "stdout",
          "text": [
            "Drive already mounted at /content/drive; to attempt to forcibly remount, call drive.mount(\"/content/drive\", force_remount=True).\n"
          ]
        }
      ],
      "source": [
        "from google.colab import drive\n",
        "drive.mount('/content/drive')"
      ]
    },
    {
      "cell_type": "code",
      "source": [
        "!pip install transformers[sentencepiece]\n",
        "!pip install datasets"
      ],
      "metadata": {
        "id": "BOBGW7Vv9bTi"
      },
      "execution_count": null,
      "outputs": []
    },
    {
      "cell_type": "code",
      "source": [
        "!pip install bert_score"
      ],
      "metadata": {
        "id": "pEhRSzE0-i0C"
      },
      "execution_count": null,
      "outputs": []
    },
    {
      "cell_type": "code",
      "source": [
        "import os\n",
        "import json\n",
        "import numpy as np\n",
        "import pandas as pd\n",
        "import re\n",
        "\n",
        "import random\n",
        "\n",
        "from tqdm.auto import tqdm, trange\n",
        "\n",
        "import seaborn as sns\n",
        "import matplotlib.pyplot as plt\n",
        "# set a grey background (use sns.set_theme() if seaborn version 0.11.0 or above) \n",
        "sns.set(style=\"darkgrid\")\n",
        "\n",
        "import logging\n",
        "import transformers\n",
        "from bert_score import score\n",
        "# hide the loading message\n",
        "transformers.tokenization_utils.logger.setLevel(logging.ERROR)\n",
        "transformers.configuration_utils.logger.setLevel(logging.ERROR)\n",
        "transformers.modeling_utils.logger.setLevel(logging.ERROR)"
      ],
      "metadata": {
        "id": "9yatAuhv-Kf0"
      },
      "execution_count": null,
      "outputs": []
    },
    {
      "cell_type": "code",
      "source": [
        "file_path = '/content/drive/MyDrive/sports_lp'\n",
        "comment_path = \"live.json\"\n",
        "news_path = \"news.txt\"\n",
        "match_path = os.listdir(file_path)"
      ],
      "metadata": {
        "id": "eF-XQGAs-eWH"
      },
      "execution_count": null,
      "outputs": []
    },
    {
      "cell_type": "code",
      "source": [
        "len(match_path)"
      ],
      "metadata": {
        "colab": {
          "base_uri": "https://localhost:8080/"
        },
        "id": "UiljLadzD4nY",
        "outputId": "4fc0b279-1eb8-4247-92f0-fe26b97527e0"
      },
      "execution_count": null,
      "outputs": [
        {
          "output_type": "execute_result",
          "data": {
            "text/plain": [
              "1164"
            ]
          },
          "metadata": {},
          "execution_count": 4
        }
      ]
    },
    {
      "cell_type": "code",
      "source": [
        "load_comment = json.load(open('/'.join([file_path, 'laliga_0080', comment_path]),'r'))\n",
        "load_news = open('/'.join([file_path, 'laliga_0080', news_path]), \"r\").read()\n",
        "len(load_news)"
      ],
      "metadata": {
        "colab": {
          "base_uri": "https://localhost:8080/"
        },
        "id": "XYGfWQca-9T-",
        "outputId": "0522bfc2-d23f-4e16-aa01-bccade911679"
      },
      "execution_count": null,
      "outputs": [
        {
          "output_type": "execute_result",
          "data": {
            "text/plain": [
              "1636"
            ]
          },
          "metadata": {},
          "execution_count": 5
        }
      ]
    },
    {
      "cell_type": "code",
      "source": [
        "def convert_comment(comment_data):\n",
        "    \n",
        "    # Convert the raw live comment data to a tuple(timeline, score, current event)\n",
        "    time_status = {'上':0, '下':45}  # determine the first half or second half\n",
        "    comment_lst = []\n",
        "    for n in comment_data['result']['data']:\n",
        "        if len(n['t']) != 0:\n",
        "            if re.match(r'\\d+', n['t']):\n",
        "                t_i = re.match(r'\\d+', n['t']).group()  # get the digit part of the time\n",
        "                if len(n['s']) != 0:\n",
        "                    t_i = int(t_i) + time_status[n['s']]\n",
        "                else:\n",
        "                    t_i = int(t_i) \n",
        "                s_i = '-'.join([n['s1'], n['s2']])\n",
        "                c_i = n['m']\n",
        "                com_i = (t_i, s_i, c_i)\n",
        "                comment_lst.append(com_i)\n",
        "    return comment_lst\n",
        "\n",
        "\n",
        "def map_comment_news(comment_list, news_data):\n",
        "            \n",
        "    comment_df = pd.DataFrame(comment_list, columns=['Time', 'Score', 'Comment'])  # convert to dataframe for better visualization\n",
        "    \n",
        "    news_text = re.sub(r'<[^>]+>|[\\n]', '', news_data)   # delete the HTML tag in the news\n",
        "    \n",
        "    # map the live comments to news sentence based on Bertscore\n",
        "    mapped_lst = []\n",
        "    for t in news_text.split('。'):   # Seperate each sentence\n",
        "        news_time = re.search(r'\\d+分钟', t)  # search for each sentence with timeline information\n",
        "        start_time = re.search(r'一开场，|开场后|[\\d]+秒', t)\n",
        "        # half_time = re.search(r'下半时，', t)\n",
        "        if news_time:\n",
        "            time_i = news_time.group()\n",
        "            time_i = re.search(r'\\d+', time_i).group()\n",
        "            if len(time_i) != 0:\n",
        "                time_i = int(time_i)\n",
        "\n",
        "                comment_rel = comment_df[(comment_df[\"Time\"]>=time_i-1) & (comment_df[\"Time\"]<=time_i+2)]  # to match the relavent time in live comments\n",
        "                if len(comment_rel) != 0:  # to make sure the relavent comment pieces exist\n",
        "                    if len(comment_rel) == 1:  # if the comment is unique, then keep it\n",
        "                        comment_match = comment_rel['Comment'].iloc[0]\n",
        "                    else:\n",
        "                        refs = comment_rel['Comment'].tolist()\n",
        "                        cands = [t] * len(refs)\n",
        "                        P, R, F1 = score(cands, refs, lang=\"zh\", rescale_with_baseline=True)  # Calculate the Bertscore\n",
        "                        comment_match = refs[F1.argmax()]\n",
        "                    mapped_lst.append((comment_match, t))\n",
        "        \n",
        "        elif start_time:\n",
        "            time_i = 1\n",
        "            comment_rel = comment_df[(comment_df[\"Time\"]>=time_i-1) & (comment_df[\"Time\"]<=time_i+1)]  # to match the relavent time in live comments\n",
        "            if len(comment_rel) != 0:  # to make sure the relavent comment pieces exist\n",
        "                if len(comment_rel) == 1:  # if the comment is unique, then keep it\n",
        "                    comment_match = comment_rel['Comment'].iloc[0]\n",
        "                else:\n",
        "                    refs = comment_rel['Comment'].tolist()\n",
        "                    cands = [t] * len(refs)\n",
        "                    P, R, F1 = score(cands, refs, lang=\"zh\", rescale_with_baseline=True)  # Calculate the Bertscore\n",
        "                    comment_match = refs[F1.argmax()]   \n",
        "                mapped_lst.append((comment_match, t))\n",
        "                    \n",
        "    # Construct the classification training data\n",
        "    # if the comment can be used in news, label it 1, otherwise 0\n",
        "    mapped_comm = [i[0] for i in mapped_lst]\n",
        "    comm_arr = np.array(comment_df['Comment'])\n",
        "    label_arr = np.zeros(len(comment_df))\n",
        "    for i in range(len(comment_df)):\n",
        "        if comm_arr[i] in mapped_comm:\n",
        "            label_arr[i] = 1\n",
        "    \n",
        "    comm_arr = comm_arr.reshape(-1,1)\n",
        "    label_arr = label_arr.reshape(-1,1)\n",
        "    return np.hstack((comm_arr, label_arr)), mapped_lst"
      ],
      "metadata": {
        "id": "VQvE6V66_VY_"
      },
      "execution_count": null,
      "outputs": []
    },
    {
      "cell_type": "code",
      "source": [
        "com_list = convert_comment(load_comment)"
      ],
      "metadata": {
        "id": "zDEleZmRAuU-"
      },
      "execution_count": null,
      "outputs": []
    },
    {
      "cell_type": "code",
      "source": [
        "com_list"
      ],
      "metadata": {
        "id": "cp-5Vdd8AxOt"
      },
      "execution_count": null,
      "outputs": []
    },
    {
      "cell_type": "code",
      "source": [
        "random.seed(10)\n",
        "input_matches = random.sample(match_path, 600)\n",
        "len(input_matches)"
      ],
      "metadata": {
        "colab": {
          "base_uri": "https://localhost:8080/"
        },
        "id": "e4RWqtQ_F0bi",
        "outputId": "cb7de7da-d153-4f57-fe16-ec8dec85eea2"
      },
      "execution_count": null,
      "outputs": [
        {
          "output_type": "execute_result",
          "data": {
            "text/plain": [
              "600"
            ]
          },
          "metadata": {},
          "execution_count": 14
        }
      ]
    },
    {
      "cell_type": "code",
      "source": [
        "mapped_dict = {}\n",
        "clf_train = np.array(['comments', 0])\n",
        "\n",
        "for match in tqdm(input_matches):  # the 1000 matches of the total dataset\n",
        "    if match != '.DS_Store':\n",
        "        load_comment = json.load(open('/'.join([file_path, match, comment_path]),'r'))\n",
        "        load_news = open('/'.join([file_path, match, news_path]), \"r\").read()\n",
        "        com_list = convert_comment(load_comment)\n",
        "        clf_data, map_outcome = map_comment_news(com_list, load_news)\n",
        "\n",
        "        mapped_dict[match] = map_outcome\n",
        "        clf_train = np.vstack((clf_train, clf_data))"
      ],
      "metadata": {
        "colab": {
          "base_uri": "https://localhost:8080/",
          "height": 414,
          "referenced_widgets": [
            "562795103e934ab0a0d3c0ef1f391322",
            "667d41b2d4e34baf9ea7b733208355c1",
            "693e2d5d7f7646d1ba11609ba4a33963",
            "d2d253b3f7fe47bd92176c4930784266",
            "9fd9a5d0d2b74f15bf2ae56f21e9224f",
            "1f3117b7f56342c79c78dbe715ed9de7",
            "8dff7d48c2114811a01e54e346ea856a",
            "72b098369f644cae8ea354fec3bf0082",
            "4f3e7407907d4d3e9b62ba29c191003a",
            "444f3a860c1a4dffa1d7aeabf2907ed6",
            "6acb9f48945f4c8386035bed990dc867"
          ]
        },
        "id": "UNsitwgdA0j0",
        "outputId": "2b2adeee-5fe0-4869-d010-6608a138bfd4"
      },
      "execution_count": null,
      "outputs": [
        {
          "output_type": "display_data",
          "data": {
            "text/plain": [
              "  0%|          | 0/600 [00:00<?, ?it/s]"
            ],
            "application/vnd.jupyter.widget-view+json": {
              "version_major": 2,
              "version_minor": 0,
              "model_id": "562795103e934ab0a0d3c0ef1f391322"
            }
          },
          "metadata": {}
        },
        {
          "output_type": "stream",
          "name": "stderr",
          "text": [
            "Warning: Empty reference sentence detected; setting raw BERTScores to 0.\n",
            "Warning: Empty reference sentence detected; setting raw BERTScores to 0.\n",
            "Warning: Empty reference sentence detected; setting raw BERTScores to 0.\n",
            "Warning: Empty reference sentence detected; setting raw BERTScores to 0.\n",
            "Warning: Empty reference sentence detected; setting raw BERTScores to 0.\n",
            "Warning: Empty reference sentence detected; setting raw BERTScores to 0.\n",
            "Warning: Empty reference sentence detected; setting raw BERTScores to 0.\n",
            "Warning: Empty reference sentence detected; setting raw BERTScores to 0.\n",
            "Warning: Empty reference sentence detected; setting raw BERTScores to 0.\n",
            "Warning: Empty reference sentence detected; setting raw BERTScores to 0.\n",
            "Warning: Empty reference sentence detected; setting raw BERTScores to 0.\n",
            "Warning: Empty reference sentence detected; setting raw BERTScores to 0.\n",
            "Warning: Empty reference sentence detected; setting raw BERTScores to 0.\n",
            "Warning: Empty reference sentence detected; setting raw BERTScores to 0.\n",
            "Warning: Empty reference sentence detected; setting raw BERTScores to 0.\n",
            "Warning: Empty reference sentence detected; setting raw BERTScores to 0.\n",
            "Warning: Empty reference sentence detected; setting raw BERTScores to 0.\n",
            "Warning: Empty reference sentence detected; setting raw BERTScores to 0.\n",
            "Warning: Empty reference sentence detected; setting raw BERTScores to 0.\n",
            "Warning: Empty reference sentence detected; setting raw BERTScores to 0.\n",
            "Warning: Empty reference sentence detected; setting raw BERTScores to 0.\n"
          ]
        }
      ]
    },
    {
      "cell_type": "code",
      "source": [
        "clf_train"
      ],
      "metadata": {
        "colab": {
          "base_uri": "https://localhost:8080/"
        },
        "id": "eCQD_Qj2A66q",
        "outputId": "279f55c9-7ba5-4edc-f1e4-78e0607dbea6"
      },
      "execution_count": null,
      "outputs": [
        {
          "output_type": "execute_result",
          "data": {
            "text/plain": [
              "array([['comments', '0'],\n",
              "       ['可惜力量过大，直接传出了底线', 0.0],\n",
              "       ['女王公园还在控球，朴智星过顶球找西塞', 0.0],\n",
              "       ...,\n",
              "       ['夺冠路上这场比赛曼城不容有失！！', 0.0],\n",
              "       ['萨巴莱塔斜长传找米尔纳，力量太大了，米尔纳没有追到', 0.0],\n",
              "       ['富勒姆开场没有任何试探，直接大脚传入曼城禁区，可惜是传大了', 0.0]], dtype=object)"
            ]
          },
          "metadata": {},
          "execution_count": 16
        }
      ]
    },
    {
      "cell_type": "code",
      "source": [
        "np.sum(clf_train[1:,1])/len(mapped_dict)"
      ],
      "metadata": {
        "colab": {
          "base_uri": "https://localhost:8080/"
        },
        "id": "jUNSZx2TgWEF",
        "outputId": "c8060b60-7696-409a-8196-bf4ea45b1116"
      },
      "execution_count": null,
      "outputs": [
        {
          "output_type": "execute_result",
          "data": {
            "text/plain": [
              "12.568333333333333"
            ]
          },
          "metadata": {},
          "execution_count": 17
        }
      ]
    },
    {
      "cell_type": "code",
      "source": [
        "with open('mapped_data_full.json', 'w') as fp:\n",
        "    json.dump(mapped_dict, fp)"
      ],
      "metadata": {
        "id": "BqJ1vpNogilM"
      },
      "execution_count": null,
      "outputs": []
    },
    {
      "cell_type": "code",
      "source": [
        "np.save('clf_train_full.npy', clf_train[1:,:])"
      ],
      "metadata": {
        "id": "-XeNLehvg-Z5"
      },
      "execution_count": null,
      "outputs": []
    },
    {
      "cell_type": "code",
      "source": [
        "mapped_dict"
      ],
      "metadata": {
        "id": "W58mgG_7hQOZ"
      },
      "execution_count": null,
      "outputs": []
    },
    {
      "cell_type": "code",
      "source": [
        ""
      ],
      "metadata": {
        "id": "DRWQr-QVhb6E"
      },
      "execution_count": null,
      "outputs": []
    }
  ]
}